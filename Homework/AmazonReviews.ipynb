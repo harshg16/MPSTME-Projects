{
 "cells": [
  {
   "cell_type": "code",
   "execution_count": 58,
   "metadata": {},
   "outputs": [],
   "source": [
    "import numpy as np\n",
    "import pandas as pd\n",
    "import re"
   ]
  },
  {
   "cell_type": "code",
   "execution_count": 59,
   "metadata": {},
   "outputs": [],
   "source": [
    "df = pd.read_json(r'C:\\Users\\harsh\\Documents\\MPSTME\\Sem VI\\NLP\\Office_Products_5.json', lines=True)"
   ]
  },
  {
   "cell_type": "code",
   "execution_count": 60,
   "metadata": {},
   "outputs": [],
   "source": [
    "REPLACE_BY_SPACE_RE = re.compile('[/(){}\\[\\]\\|@,;]')\n",
    "BAD_SYMBOLS_RE = re.compile('[^0-9a-z #+_]')\n",
    "\n",
    "def clean_text(text):\n",
    "    text = text.lower()\n",
    "    text = REPLACE_BY_SPACE_RE.sub(' ', text)\n",
    "    text = BAD_SYMBOLS_RE.sub('', text)\n",
    "    return text"
   ]
  },
  {
   "cell_type": "code",
   "execution_count": 65,
   "metadata": {
    "scrolled": true
   },
   "outputs": [],
   "source": [
    "def count_words(rev):\n",
    "    rev = clean_text(rev).split(\" \")\n",
    "    word_count = {}\n",
    "    for word in rev:\n",
    "        if word in word_count:\n",
    "            word_count[word] += 1\n",
    "        else:\n",
    "            word_count[word] = 1\n",
    "    return word_count"
   ]
  },
  {
   "cell_type": "code",
   "execution_count": 66,
   "metadata": {},
   "outputs": [],
   "source": [
    "counts = []\n",
    "for reviews in df['reviewText']:\n",
    "    counts.append(count_words(reviews))"
   ]
  },
  {
   "cell_type": "code",
   "execution_count": 67,
   "metadata": {},
   "outputs": [],
   "source": [
    "df['wordCounts'] = counts"
   ]
  },
  {
   "cell_type": "code",
   "execution_count": 68,
   "metadata": {},
   "outputs": [
    {
     "data": {
      "text/plain": [
       "{'i': 7,\n",
       " 'bought': 1,\n",
       " 'my': 4,\n",
       " 'first': 1,\n",
       " 'hp12c': 2,\n",
       " 'in': 5,\n",
       " 'about': 1,\n",
       " '1984': 1,\n",
       " 'or': 1,\n",
       " 'so': 2,\n",
       " '': 23,\n",
       " 'and': 5,\n",
       " 'it': 5,\n",
       " 'served': 1,\n",
       " 'me': 2,\n",
       " 'faithfully': 1,\n",
       " 'until': 1,\n",
       " '2002': 1,\n",
       " 'when': 1,\n",
       " 'lost': 1,\n",
       " 'while': 1,\n",
       " 'travelling': 1,\n",
       " 'searched': 1,\n",
       " 'for': 4,\n",
       " 'another': 1,\n",
       " 'one': 2,\n",
       " 'to': 7,\n",
       " 'replace': 2,\n",
       " 'but': 3,\n",
       " 'found': 1,\n",
       " 'difficult': 1,\n",
       " 'come': 1,\n",
       " 'by': 1,\n",
       " 'area': 1,\n",
       " 'decided': 1,\n",
       " 'buy': 1,\n",
       " 'up': 2,\n",
       " 'purchased': 1,\n",
       " 'an': 1,\n",
       " 'hp': 3,\n",
       " '49g': 4,\n",
       " 'what': 2,\n",
       " 'a': 5,\n",
       " 'mistake': 1,\n",
       " 'know': 1,\n",
       " 'that': 3,\n",
       " 'many': 2,\n",
       " 'people': 1,\n",
       " 'view': 1,\n",
       " 'the': 9,\n",
       " 'now': 1,\n",
       " '49g+': 1,\n",
       " 'as': 1,\n",
       " 'flagship': 1,\n",
       " 'of': 2,\n",
       " 'line': 1,\n",
       " 'was': 2,\n",
       " 'disasterthe': 1,\n",
       " 'may': 2,\n",
       " 'be': 3,\n",
       " 'powerful': 1,\n",
       " 'using': 1,\n",
       " 'is': 1,\n",
       " 'extremely': 1,\n",
       " 'counterintuitiveand': 1,\n",
       " 'manual': 2,\n",
       " 'sketchy': 1,\n",
       " 'at': 1,\n",
       " 'best': 1,\n",
       " '12c': 2,\n",
       " 'on': 1,\n",
       " 'other': 1,\n",
       " 'hand': 1,\n",
       " 'does': 2,\n",
       " 'need': 1,\n",
       " 'way': 1,\n",
       " 'makes': 2,\n",
       " 'good': 1,\n",
       " 'sense': 2,\n",
       " 'meif': 1,\n",
       " 'you': 3,\n",
       " 'are': 1,\n",
       " 'looking': 1,\n",
       " 'solid': 1,\n",
       " 'reliable': 1,\n",
       " 'calculator': 1,\n",
       " 'its': 1,\n",
       " 'programmable': 1,\n",
       " 'basic': 1,\n",
       " 'statistics': 1,\n",
       " 'well': 2,\n",
       " 'business': 1,\n",
       " 'applications': 1,\n",
       " 'too': 1,\n",
       " 'will': 1,\n",
       " 'running': 1,\n",
       " 'short': 1,\n",
       " 'orderim': 1,\n",
       " 'ready': 1,\n",
       " 'set': 1,\n",
       " 'aside': 1,\n",
       " 'move': 1,\n",
       " 'back': 1,\n",
       " 'old': 1,\n",
       " 'friend': 1,\n",
       " 'didnt': 1,\n",
       " 'even': 1,\n",
       " 'have': 1,\n",
       " 'batteries': 1,\n",
       " 'over': 1,\n",
       " 'decade': 1,\n",
       " 'usehp': 1,\n",
       " 'im': 1,\n",
       " 'coming': 1,\n",
       " 'home': 1}"
      ]
     },
     "execution_count": 68,
     "metadata": {},
     "output_type": "execute_result"
    }
   ],
   "source": [
    "df['wordCounts'][0]"
   ]
  },
  {
   "cell_type": "code",
   "execution_count": null,
   "metadata": {},
   "outputs": [],
   "source": []
  }
 ],
 "metadata": {
  "kernelspec": {
   "display_name": "Python 3",
   "language": "python",
   "name": "python3"
  },
  "language_info": {
   "codemirror_mode": {
    "name": "ipython",
    "version": 3
   },
   "file_extension": ".py",
   "mimetype": "text/x-python",
   "name": "python",
   "nbconvert_exporter": "python",
   "pygments_lexer": "ipython3",
   "version": "3.7.1"
  }
 },
 "nbformat": 4,
 "nbformat_minor": 2
}
