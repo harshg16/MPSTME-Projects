{
 "cells": [
  {
   "cell_type": "code",
   "execution_count": 6,
   "metadata": {},
   "outputs": [],
   "source": [
    "import numpy as np\n",
    "import pandas as pd\n",
    "import re"
   ]
  },
  {
   "cell_type": "code",
   "execution_count": 7,
   "metadata": {},
   "outputs": [],
   "source": [
    "df = pd.read_json(r'C:\\Users\\harsh\\Documents\\MPSTME\\Sem VI\\NLP\\Office_Products_5.json', lines=True)"
   ]
  },
  {
   "cell_type": "code",
   "execution_count": 8,
   "metadata": {},
   "outputs": [],
   "source": [
    "REPLACE_BY_SPACE_RE = re.compile('[/(){}\\[\\]\\|@,;]')\n",
    "BAD_SYMBOLS_RE = re.compile('[^0-9a-z #+_]')\n",
    "\n",
    "def clean_text(text):\n",
    "    text = text.lower()\n",
    "    text = REPLACE_BY_SPACE_RE.sub(' ', text)\n",
    "    text = BAD_SYMBOLS_RE.sub('', text)\n",
    "    return text\n",
    "\n",
    "df['reviewText'] = df['reviewText'].apply(clean_text)\n",
    "df['summary'] = df['summary'].apply(clean_text)"
   ]
  },
  {
   "cell_type": "code",
   "execution_count": 23,
   "metadata": {},
   "outputs": [],
   "source": [
    "def notbandg(rev):\n",
    "   \n",
    "    begin_b = set(re.findall(r\"\\b([bB]\\w+)\\b\",rev))\n",
    "    end_g = set(re.findall(r\"\\b(\\w+[gG])\\b\",rev))\n",
    "    words = set(rev.split(\" \"))\n",
    "    begin_b_and_end_g = words - begin_b - end_g\n",
    "    return begin_b_and_end_g"
   ]
  },
  {
   "cell_type": "code",
   "execution_count": 27,
   "metadata": {},
   "outputs": [],
   "source": [
    "df[\"Not_Begin_B_End_G_RT\"] = df['reviewText'].apply(notbandg)"
   ]
  },
  {
   "cell_type": "code",
   "execution_count": 28,
   "metadata": {},
   "outputs": [
    {
     "data": {
      "text/plain": [
       "0        {, other, at, orderim, a, 12c, are, aside, han...\n",
       "1        {, do, has, longest, products, retiredas, who,...\n",
       "2        {, more, classic, press, hard, has, still, a, ...\n",
       "3        {, do, has, slow, who, ive, find, fire, any, w...\n",
       "4        {, do, polish, still, a, intuitive, lasted, fi...\n",
       "                               ...                        \n",
       "53253    {, see, more, ac, has, a, lbs, top, doesnt, sp...\n",
       "53254    {, see, shippro, scroll, gratis, tenths, find,...\n",
       "53255    {, 12, overpayments, 350, has, ive, charged, t...\n",
       "53256    {see, has, a, lbs, oz, are, no, their, lot, gr...\n",
       "53257    {, do, shippro, has, considered, great, any, d...\n",
       "Name: Not_Begin_B_End_G_RT, Length: 53258, dtype: object"
      ]
     },
     "execution_count": 28,
     "metadata": {},
     "output_type": "execute_result"
    }
   ],
   "source": [
    "df['Not_Begin_B_End_G_RT']"
   ]
  },
  {
   "cell_type": "code",
   "execution_count": 29,
   "metadata": {},
   "outputs": [],
   "source": [
    "df[\"Not_Begin_B_End_G_S\"] = df['summary'].apply(notbandg)"
   ]
  },
  {
   "cell_type": "code",
   "execution_count": 30,
   "metadata": {},
   "outputs": [
    {
     "data": {
      "text/plain": [
       "0               {, a, solid, time, performer, and, friend}\n",
       "1        {, up, is, golden, so, of, price, gold, the, d...\n",
       "2        {, hps, durable, functionality, old, not, good...\n",
       "3        {one, species, last, an, of, almost, the, exti...\n",
       "4                                             {still, the}\n",
       "                               ...                        \n",
       "53253                 {very, easy, use, to, portable, and}\n",
       "53254    {, accuteck, shippro, reliable, postal, digita...\n",
       "53255    {, foolproof, postal, extremely, accurate, scale}\n",
       "53256                        {, easy, fast, and, accurate}\n",
       "53257           {value, on, good, great, postal, scale, a}\n",
       "Name: Not_Begin_B_End_G_S, Length: 53258, dtype: object"
      ]
     },
     "execution_count": 30,
     "metadata": {},
     "output_type": "execute_result"
    }
   ],
   "source": [
    "df['Not_Begin_B_End_G_S']"
   ]
  }
 ],
 "metadata": {
  "kernelspec": {
   "display_name": "Python 3",
   "language": "python",
   "name": "python3"
  },
  "language_info": {
   "codemirror_mode": {
    "name": "ipython",
    "version": 3
   },
   "file_extension": ".py",
   "mimetype": "text/x-python",
   "name": "python",
   "nbconvert_exporter": "python",
   "pygments_lexer": "ipython3",
   "version": "3.7.1"
  }
 },
 "nbformat": 4,
 "nbformat_minor": 2
}
