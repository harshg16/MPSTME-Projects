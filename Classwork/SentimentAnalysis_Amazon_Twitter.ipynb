{
 "cells": [
  {
   "cell_type": "code",
   "execution_count": 2,
   "metadata": {},
   "outputs": [
    {
     "name": "stderr",
     "output_type": "stream",
     "text": [
      "[nltk_data] Downloading package punkt to\n",
      "[nltk_data]     C:\\Users\\harsh\\AppData\\Roaming\\nltk_data...\n",
      "[nltk_data]   Package punkt is already up-to-date!\n",
      "[nltk_data] Downloading package vader_lexicon to\n",
      "[nltk_data]     C:\\Users\\harsh\\AppData\\Roaming\\nltk_data...\n"
     ]
    }
   ],
   "source": [
    "import pandas as pd\n",
    "import numpy as np\n",
    "import nltk\n",
    "nltk.download('punkt')\n",
    "nltk.download('vader_lexicon')\n",
    "from nltk.sentiment.vader import SentimentIntensityAnalyzer\n",
    "from textblob import TextBlob\n",
    "from sklearn.metrics import confusion_matrix, accuracy_score"
   ]
  },
  {
   "cell_type": "code",
   "execution_count": 4,
   "metadata": {},
   "outputs": [],
   "source": [
    "df_amazon = pd.read_json(r'C:\\Users\\harsh\\Documents\\MPSTME\\Sem VI\\NLP\\Office_Products_5.json', lines=True)\n",
    "df_twitter = pd.read_csv(r'C:\\Users\\harsh\\Documents\\MPSTME\\Sem VI\\NLP\\full-corpus.csv')\n",
    "df_twitter=df_twitter[df_twitter['Sentiment']!='irrelevant']"
   ]
  },
  {
   "cell_type": "code",
   "execution_count": 5,
   "metadata": {},
   "outputs": [],
   "source": [
    "def sentiment_pol(text):\n",
    "  blob = TextBlob(text)\n",
    "  for sentence in blob.sentences:\n",
    "    val=(sentence.sentiment.polarity)\n",
    "    if val > 0.0:\n",
    "      return \"positive\"\n",
    "    elif val < 0.0:\n",
    "      return \"negative\"\n",
    "    else:\n",
    "      return \"neutral\""
   ]
  },
  {
   "cell_type": "code",
   "execution_count": 6,
   "metadata": {},
   "outputs": [],
   "source": [
    "df_twitter['Sentiment Blob']=df_twitter['TweetText'].apply(sentiment_pol)\n",
    "df_amazon['Sentiment Blob']=df_amazon['reviewText'].apply(sentiment_pol)"
   ]
  },
  {
   "cell_type": "code",
   "execution_count": 7,
   "metadata": {},
   "outputs": [],
   "source": [
    "def sentiment_int(text):\n",
    "  sia = SentimentIntensityAnalyzer()\n",
    "  sp = sia.polarity_scores(text)\n",
    "  if sp['compound'] >= 0.05:\n",
    "    return \"positive\"\n",
    "  elif sp['compound'] <= -0.05:\n",
    "    return \"negative\"\n",
    "  else:\n",
    "    return \"neutral\""
   ]
  },
  {
   "cell_type": "code",
   "execution_count": 8,
   "metadata": {},
   "outputs": [],
   "source": [
    "df_twitter['Sentiment SIA']=df_twitter['TweetText'].apply(sentiment_int)\n",
    "df_amazon['Sentiment SIA']=df_amazon['reviewText'].apply(sentiment_int)"
   ]
  },
  {
   "cell_type": "code",
   "execution_count": 9,
   "metadata": {},
   "outputs": [
    {
     "data": {
      "text/html": [
       "<div>\n",
       "<style scoped>\n",
       "    .dataframe tbody tr th:only-of-type {\n",
       "        vertical-align: middle;\n",
       "    }\n",
       "\n",
       "    .dataframe tbody tr th {\n",
       "        vertical-align: top;\n",
       "    }\n",
       "\n",
       "    .dataframe thead th {\n",
       "        text-align: right;\n",
       "    }\n",
       "</style>\n",
       "<table border=\"1\" class=\"dataframe\">\n",
       "  <thead>\n",
       "    <tr style=\"text-align: right;\">\n",
       "      <th></th>\n",
       "      <th>reviewerID</th>\n",
       "      <th>asin</th>\n",
       "      <th>reviewerName</th>\n",
       "      <th>helpful</th>\n",
       "      <th>reviewText</th>\n",
       "      <th>overall</th>\n",
       "      <th>summary</th>\n",
       "      <th>unixReviewTime</th>\n",
       "      <th>reviewTime</th>\n",
       "      <th>Sentiment Blob</th>\n",
       "      <th>Sentiment SIA</th>\n",
       "    </tr>\n",
       "  </thead>\n",
       "  <tbody>\n",
       "    <tr>\n",
       "      <td>0</td>\n",
       "      <td>A32T2H8150OJLU</td>\n",
       "      <td>B00000JBLH</td>\n",
       "      <td>ARH</td>\n",
       "      <td>[3, 4]</td>\n",
       "      <td>I bought my first HP12C in about 1984 or so, a...</td>\n",
       "      <td>5</td>\n",
       "      <td>A solid performer, and long time friend</td>\n",
       "      <td>1094169600</td>\n",
       "      <td>09 3, 2004</td>\n",
       "      <td>positive</td>\n",
       "      <td>positive</td>\n",
       "    </tr>\n",
       "    <tr>\n",
       "      <td>1</td>\n",
       "      <td>A3MAFS04ZABRGO</td>\n",
       "      <td>B00000JBLH</td>\n",
       "      <td>Let it Be \"Alan\"</td>\n",
       "      <td>[7, 9]</td>\n",
       "      <td>WHY THIS BELATED REVIEW? I feel very obliged t...</td>\n",
       "      <td>5</td>\n",
       "      <td>Price of GOLD is up, so don't bury the golden ...</td>\n",
       "      <td>1197676800</td>\n",
       "      <td>12 15, 2007</td>\n",
       "      <td>neutral</td>\n",
       "      <td>positive</td>\n",
       "    </tr>\n",
       "    <tr>\n",
       "      <td>2</td>\n",
       "      <td>A1F1A0QQP2XVH5</td>\n",
       "      <td>B00000JBLH</td>\n",
       "      <td>Mark B</td>\n",
       "      <td>[3, 3]</td>\n",
       "      <td>I have an HP 48GX that has been kicking for mo...</td>\n",
       "      <td>2</td>\n",
       "      <td>Good functionality, but not durable like old HPs</td>\n",
       "      <td>1293840000</td>\n",
       "      <td>01 1, 2011</td>\n",
       "      <td>positive</td>\n",
       "      <td>negative</td>\n",
       "    </tr>\n",
       "    <tr>\n",
       "      <td>3</td>\n",
       "      <td>A49R5DBXXQDE5</td>\n",
       "      <td>B00000JBLH</td>\n",
       "      <td>R. D Johnson</td>\n",
       "      <td>[7, 8]</td>\n",
       "      <td>I've started doing more finance stuff recently...</td>\n",
       "      <td>5</td>\n",
       "      <td>One of the last of an almost extinct species</td>\n",
       "      <td>1145404800</td>\n",
       "      <td>04 19, 2006</td>\n",
       "      <td>positive</td>\n",
       "      <td>positive</td>\n",
       "    </tr>\n",
       "    <tr>\n",
       "      <td>4</td>\n",
       "      <td>A2XRMQA6PJ5ZJ8</td>\n",
       "      <td>B00000JBLH</td>\n",
       "      <td>Roger J. Buffington</td>\n",
       "      <td>[0, 0]</td>\n",
       "      <td>For simple calculations and discounted cash fl...</td>\n",
       "      <td>5</td>\n",
       "      <td>Still the best</td>\n",
       "      <td>1375574400</td>\n",
       "      <td>08 4, 2013</td>\n",
       "      <td>positive</td>\n",
       "      <td>positive</td>\n",
       "    </tr>\n",
       "  </tbody>\n",
       "</table>\n",
       "</div>"
      ],
      "text/plain": [
       "       reviewerID        asin         reviewerName helpful  \\\n",
       "0  A32T2H8150OJLU  B00000JBLH                  ARH  [3, 4]   \n",
       "1  A3MAFS04ZABRGO  B00000JBLH     Let it Be \"Alan\"  [7, 9]   \n",
       "2  A1F1A0QQP2XVH5  B00000JBLH               Mark B  [3, 3]   \n",
       "3   A49R5DBXXQDE5  B00000JBLH         R. D Johnson  [7, 8]   \n",
       "4  A2XRMQA6PJ5ZJ8  B00000JBLH  Roger J. Buffington  [0, 0]   \n",
       "\n",
       "                                          reviewText  overall  \\\n",
       "0  I bought my first HP12C in about 1984 or so, a...        5   \n",
       "1  WHY THIS BELATED REVIEW? I feel very obliged t...        5   \n",
       "2  I have an HP 48GX that has been kicking for mo...        2   \n",
       "3  I've started doing more finance stuff recently...        5   \n",
       "4  For simple calculations and discounted cash fl...        5   \n",
       "\n",
       "                                             summary  unixReviewTime  \\\n",
       "0            A solid performer, and long time friend      1094169600   \n",
       "1  Price of GOLD is up, so don't bury the golden ...      1197676800   \n",
       "2   Good functionality, but not durable like old HPs      1293840000   \n",
       "3       One of the last of an almost extinct species      1145404800   \n",
       "4                                     Still the best      1375574400   \n",
       "\n",
       "    reviewTime Sentiment Blob Sentiment SIA  \n",
       "0   09 3, 2004       positive      positive  \n",
       "1  12 15, 2007        neutral      positive  \n",
       "2   01 1, 2011       positive      negative  \n",
       "3  04 19, 2006       positive      positive  \n",
       "4   08 4, 2013       positive      positive  "
      ]
     },
     "execution_count": 9,
     "metadata": {},
     "output_type": "execute_result"
    }
   ],
   "source": [
    "df_amazon.head()"
   ]
  },
  {
   "cell_type": "code",
   "execution_count": 10,
   "metadata": {},
   "outputs": [
    {
     "data": {
      "text/html": [
       "<div>\n",
       "<style scoped>\n",
       "    .dataframe tbody tr th:only-of-type {\n",
       "        vertical-align: middle;\n",
       "    }\n",
       "\n",
       "    .dataframe tbody tr th {\n",
       "        vertical-align: top;\n",
       "    }\n",
       "\n",
       "    .dataframe thead th {\n",
       "        text-align: right;\n",
       "    }\n",
       "</style>\n",
       "<table border=\"1\" class=\"dataframe\">\n",
       "  <thead>\n",
       "    <tr style=\"text-align: right;\">\n",
       "      <th></th>\n",
       "      <th>Topic</th>\n",
       "      <th>Sentiment</th>\n",
       "      <th>TweetId</th>\n",
       "      <th>TweetDate</th>\n",
       "      <th>TweetText</th>\n",
       "      <th>Sentiment Blob</th>\n",
       "      <th>Sentiment SIA</th>\n",
       "    </tr>\n",
       "  </thead>\n",
       "  <tbody>\n",
       "    <tr>\n",
       "      <td>0</td>\n",
       "      <td>apple</td>\n",
       "      <td>positive</td>\n",
       "      <td>126415614616154112</td>\n",
       "      <td>Tue Oct 18 21:53:25 +0000 2011</td>\n",
       "      <td>Now all @Apple has to do is get swype on the i...</td>\n",
       "      <td>neutral</td>\n",
       "      <td>neutral</td>\n",
       "    </tr>\n",
       "    <tr>\n",
       "      <td>1</td>\n",
       "      <td>apple</td>\n",
       "      <td>positive</td>\n",
       "      <td>126404574230740992</td>\n",
       "      <td>Tue Oct 18 21:09:33 +0000 2011</td>\n",
       "      <td>@Apple will be adding more carrier support to ...</td>\n",
       "      <td>positive</td>\n",
       "      <td>positive</td>\n",
       "    </tr>\n",
       "    <tr>\n",
       "      <td>2</td>\n",
       "      <td>apple</td>\n",
       "      <td>positive</td>\n",
       "      <td>126402758403305474</td>\n",
       "      <td>Tue Oct 18 21:02:20 +0000 2011</td>\n",
       "      <td>Hilarious @youtube video - guy does a duet wit...</td>\n",
       "      <td>positive</td>\n",
       "      <td>positive</td>\n",
       "    </tr>\n",
       "    <tr>\n",
       "      <td>3</td>\n",
       "      <td>apple</td>\n",
       "      <td>positive</td>\n",
       "      <td>126397179614068736</td>\n",
       "      <td>Tue Oct 18 20:40:10 +0000 2011</td>\n",
       "      <td>@RIM you made it too easy for me to switch to ...</td>\n",
       "      <td>positive</td>\n",
       "      <td>positive</td>\n",
       "    </tr>\n",
       "    <tr>\n",
       "      <td>4</td>\n",
       "      <td>apple</td>\n",
       "      <td>positive</td>\n",
       "      <td>126395626979196928</td>\n",
       "      <td>Tue Oct 18 20:34:00 +0000 2011</td>\n",
       "      <td>I just realized that the reason I got into twi...</td>\n",
       "      <td>positive</td>\n",
       "      <td>positive</td>\n",
       "    </tr>\n",
       "  </tbody>\n",
       "</table>\n",
       "</div>"
      ],
      "text/plain": [
       "   Topic Sentiment             TweetId                       TweetDate  \\\n",
       "0  apple  positive  126415614616154112  Tue Oct 18 21:53:25 +0000 2011   \n",
       "1  apple  positive  126404574230740992  Tue Oct 18 21:09:33 +0000 2011   \n",
       "2  apple  positive  126402758403305474  Tue Oct 18 21:02:20 +0000 2011   \n",
       "3  apple  positive  126397179614068736  Tue Oct 18 20:40:10 +0000 2011   \n",
       "4  apple  positive  126395626979196928  Tue Oct 18 20:34:00 +0000 2011   \n",
       "\n",
       "                                           TweetText Sentiment Blob  \\\n",
       "0  Now all @Apple has to do is get swype on the i...        neutral   \n",
       "1  @Apple will be adding more carrier support to ...       positive   \n",
       "2  Hilarious @youtube video - guy does a duet wit...       positive   \n",
       "3  @RIM you made it too easy for me to switch to ...       positive   \n",
       "4  I just realized that the reason I got into twi...       positive   \n",
       "\n",
       "  Sentiment SIA  \n",
       "0       neutral  \n",
       "1      positive  \n",
       "2      positive  \n",
       "3      positive  \n",
       "4      positive  "
      ]
     },
     "execution_count": 10,
     "metadata": {},
     "output_type": "execute_result"
    }
   ],
   "source": [
    "df_twitter.head()"
   ]
  },
  {
   "cell_type": "code",
   "execution_count": 11,
   "metadata": {},
   "outputs": [],
   "source": [
    "blob_cm=confusion_matrix(df_twitter['Sentiment'],df_twitter['Sentiment Blob'])\n",
    "sia_cm=confusion_matrix(df_twitter['Sentiment'],df_twitter['Sentiment SIA'])\n",
    "blob_acc=accuracy_score(df_twitter['Sentiment'],df_twitter['Sentiment Blob'])\n",
    "sia_acc=accuracy_score(df_twitter['Sentiment'],df_twitter['Sentiment SIA'])"
   ]
  },
  {
   "cell_type": "code",
   "execution_count": 12,
   "metadata": {},
   "outputs": [
    {
     "name": "stdout",
     "output_type": "stream",
     "text": [
      "Confusion matrix while using TextBlob Sentiment: \n",
      " [[ 178  260  134]\n",
      " [ 189 1339  805]\n",
      " [  34  195  290]]\n",
      "Accuracy while using TextBlob Sentiment:  0.5277453271028038\n"
     ]
    }
   ],
   "source": [
    "print(\"Confusion matrix while using TextBlob Sentiment: \\n\",blob_cm)\n",
    "print(\"Accuracy while using TextBlob Sentiment: \",blob_acc)"
   ]
  },
  {
   "cell_type": "code",
   "execution_count": 13,
   "metadata": {},
   "outputs": [
    {
     "name": "stdout",
     "output_type": "stream",
     "text": [
      "Confusion matrix while using SIA: \n",
      " [[ 291  138  143]\n",
      " [ 302 1234  797]\n",
      " [  47   99  373]]\n",
      "Accuracy while using SIA:  0.554322429906542\n"
     ]
    }
   ],
   "source": [
    "print(\"Confusion matrix while using SIA: \\n\",sia_cm)\n",
    "print(\"Accuracy while using SIA: \",sia_acc)"
   ]
  }
 ],
 "metadata": {
  "kernelspec": {
   "display_name": "Python 3",
   "language": "python",
   "name": "python3"
  },
  "language_info": {
   "codemirror_mode": {
    "name": "ipython",
    "version": 3
   },
   "file_extension": ".py",
   "mimetype": "text/x-python",
   "name": "python",
   "nbconvert_exporter": "python",
   "pygments_lexer": "ipython3",
   "version": "3.7.1"
  }
 },
 "nbformat": 4,
 "nbformat_minor": 2
}
