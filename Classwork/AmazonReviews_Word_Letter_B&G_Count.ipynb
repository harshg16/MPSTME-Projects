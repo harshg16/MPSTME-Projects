{
 "cells": [
  {
   "cell_type": "code",
   "execution_count": 32,
   "metadata": {},
   "outputs": [],
   "source": [
    "import numpy as np\n",
    "import pandas as pd\n",
    "import re"
   ]
  },
  {
   "cell_type": "code",
   "execution_count": 33,
   "metadata": {},
   "outputs": [],
   "source": [
    "df = pd.read_json(r'C:\\Users\\harsh\\Documents\\MPSTME\\Sem VI\\NLP\\Office_Products_5.json', lines=True)"
   ]
  },
  {
   "cell_type": "code",
   "execution_count": 34,
   "metadata": {},
   "outputs": [],
   "source": [
    "REPLACE_BY_SPACE_RE = re.compile('[/(){}\\[\\]\\|@,;]')\n",
    "BAD_SYMBOLS_RE = re.compile('[^0-9a-z #+_]')\n",
    "\n",
    "def clean_text(text):\n",
    "    text = text.lower()\n",
    "    text = REPLACE_BY_SPACE_RE.sub(' ', text)\n",
    "    text = BAD_SYMBOLS_RE.sub('', text)\n",
    "    return text"
   ]
  },
  {
   "cell_type": "code",
   "execution_count": 35,
   "metadata": {},
   "outputs": [],
   "source": [
    "vowels = ['a','e','i','o','u']\n",
    "consonants = ['b', 'c', 'd', 'f', 'g', 'h', 'j', 'k', 'l', 'm', 'n', 'p', 'q', 'r', 's', 't', 'v', 'w', 'x', 'y', 'z']"
   ]
  },
  {
   "cell_type": "code",
   "execution_count": 36,
   "metadata": {},
   "outputs": [],
   "source": [
    "def counts(rev):\n",
    "    count = {}\n",
    "    vcount = 0\n",
    "    ccount = 0\n",
    "    wcount = 0\n",
    "\n",
    "    rev = clean_text(rev)\n",
    "    words = rev.split()\n",
    "\n",
    "    for word in words:\n",
    "      wcount+=1\n",
    "\n",
    "    for i in rev.lower():\n",
    "      if i in vowels:\n",
    "        vcount+=1\n",
    "      if i in consonants:\n",
    "        ccount+=1\n",
    "    \n",
    "    count['Vowels'] = vcount\n",
    "    count['Consonants'] = ccount\n",
    "    count['Words'] = wcount\n",
    "\n",
    "    return count"
   ]
  },
  {
   "cell_type": "code",
   "execution_count": 37,
   "metadata": {},
   "outputs": [],
   "source": [
    "df[\"reviewTextCount\"] = df.reviewText.apply(counts)"
   ]
  },
  {
   "cell_type": "code",
   "execution_count": 38,
   "metadata": {},
   "outputs": [
    {
     "data": {
      "text/plain": [
       "0         {'Vowels': 279, 'Consonants': 437, 'Words': 186}\n",
       "1        {'Vowels': 1504, 'Consonants': 2685, 'Words': ...\n",
       "2          {'Vowels': 134, 'Consonants': 235, 'Words': 96}\n",
       "3        {'Vowels': 1089, 'Consonants': 1775, 'Words': ...\n",
       "4         {'Vowels': 208, 'Consonants': 338, 'Words': 121}\n",
       "                               ...                        \n",
       "53253     {'Vowels': 236, 'Consonants': 358, 'Words': 146}\n",
       "53254    {'Vowels': 839, 'Consonants': 1308, 'Words': 496}\n",
       "53255     {'Vowels': 422, 'Consonants': 693, 'Words': 284}\n",
       "53256     {'Vowels': 232, 'Consonants': 335, 'Words': 147}\n",
       "53257     {'Vowels': 582, 'Consonants': 901, 'Words': 338}\n",
       "Name: reviewTextCount, Length: 53258, dtype: object"
      ]
     },
     "execution_count": 38,
     "metadata": {},
     "output_type": "execute_result"
    }
   ],
   "source": [
    "df.reviewTextCount"
   ]
  },
  {
   "cell_type": "code",
   "execution_count": 39,
   "metadata": {},
   "outputs": [],
   "source": [
    "df[\"summaryCount\"] = df.summary.apply(counts)"
   ]
  },
  {
   "cell_type": "code",
   "execution_count": 40,
   "metadata": {},
   "outputs": [
    {
     "data": {
      "text/plain": [
       "0         {'Vowels': 12, 'Consonants': 20, 'Words': 7}\n",
       "1        {'Vowels': 14, 'Consonants': 31, 'Words': 12}\n",
       "2         {'Vowels': 15, 'Consonants': 25, 'Words': 8}\n",
       "3         {'Vowels': 14, 'Consonants': 22, 'Words': 9}\n",
       "4           {'Vowels': 3, 'Consonants': 9, 'Words': 3}\n",
       "                             ...                      \n",
       "53253     {'Vowels': 10, 'Consonants': 14, 'Words': 6}\n",
       "53254    {'Vowels': 32, 'Consonants': 52, 'Words': 14}\n",
       "53255     {'Vowels': 17, 'Consonants': 28, 'Words': 6}\n",
       "53256      {'Vowels': 8, 'Consonants': 11, 'Words': 4}\n",
       "53257     {'Vowels': 13, 'Consonants': 15, 'Words': 7}\n",
       "Name: summaryCount, Length: 53258, dtype: object"
      ]
     },
     "execution_count": 40,
     "metadata": {},
     "output_type": "execute_result"
    }
   ],
   "source": [
    "df.summaryCount"
   ]
  },
  {
   "cell_type": "code",
   "execution_count": 41,
   "metadata": {},
   "outputs": [],
   "source": [
    "def bandg(rev):\n",
    "   \n",
    "  begin_b = re.findall(r\"\\b([bB]\\w+)\\b\",rev)\n",
    "  end_g = re.findall(r\"\\b(\\w+[gG])\\b\",rev)\n",
    "  begin_b_and_end_g = set(begin_b + end_g) \n",
    "  return begin_b_and_end_g"
   ]
  },
  {
   "cell_type": "code",
   "execution_count": 42,
   "metadata": {},
   "outputs": [],
   "source": [
    "df[\"Begin_B_End_G_RT\"] = df.reviewText.apply(bandg)"
   ]
  },
  {
   "cell_type": "code",
   "execution_count": 43,
   "metadata": {},
   "outputs": [
    {
     "data": {
      "text/plain": [
       "0        {batteries, business, by, back, buy, running, ...\n",
       "1        {discontinuing, puzzling, best, continuing, bu...\n",
       "2                    {kicking, working, giving, been, But}\n",
       "3        {blinks, along, built, using, be, going, doing...\n",
       "4        {business, best, but, be, practicing, purchasi...\n",
       "                               ...                        \n",
       "53253    {batteries, weighing, by, backlit, swung, fold...\n",
       "53254    {blue, best, using, be, showing, background, s...\n",
       "53255    {tipping, using, be, box, been, bright, bag, b...\n",
       "53256    {batteries, buttons, sending, books, making, u...\n",
       "53257    {blue, using, be, background, cooking, competi...\n",
       "Name: Begin_B_End_G_RT, Length: 53258, dtype: object"
      ]
     },
     "execution_count": 43,
     "metadata": {},
     "output_type": "execute_result"
    }
   ],
   "source": [
    "df['Begin_B_End_G_RT']"
   ]
  },
  {
   "cell_type": "code",
   "execution_count": 44,
   "metadata": {},
   "outputs": [],
   "source": [
    "df[\"Begin_B_End_G_S\"] = df.summary.apply(bandg)"
   ]
  },
  {
   "cell_type": "code",
   "execution_count": 45,
   "metadata": {},
   "outputs": [
    {
     "data": {
      "text/plain": [
       "0            {long}\n",
       "1            {bury}\n",
       "2             {but}\n",
       "3                {}\n",
       "4            {best}\n",
       "            ...    \n",
       "53253            {}\n",
       "53254            {}\n",
       "53255    {shipping}\n",
       "53256            {}\n",
       "53257            {}\n",
       "Name: Begin_B_End_G_S, Length: 53258, dtype: object"
      ]
     },
     "execution_count": 45,
     "metadata": {},
     "output_type": "execute_result"
    }
   ],
   "source": [
    "df['Begin_B_End_G_S']"
   ]
  }
 ],
 "metadata": {
  "kernelspec": {
   "display_name": "Python 3",
   "language": "python",
   "name": "python3"
  },
  "language_info": {
   "codemirror_mode": {
    "name": "ipython",
    "version": 3
   },
   "file_extension": ".py",
   "mimetype": "text/x-python",
   "name": "python",
   "nbconvert_exporter": "python",
   "pygments_lexer": "ipython3",
   "version": "3.7.1"
  }
 },
 "nbformat": 4,
 "nbformat_minor": 2
}
